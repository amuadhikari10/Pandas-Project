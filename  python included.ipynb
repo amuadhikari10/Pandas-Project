{
 "cells": [
  {
   "cell_type": "code",
   "execution_count": 29,
   "id": "604689dd",
   "metadata": {},
   "outputs": [],
   "source": [
    "#Basics, functions, loops and conditions, OOP in python, working with operating file, working with data and time"
   ]
  },
  {
   "cell_type": "markdown",
   "id": "bc379ce0",
   "metadata": {},
   "source": [
    "# first code\n",
    "\n",
    "\n"
   ]
  },
  {
   "cell_type": "code",
   "execution_count": 1,
   "id": "aeeaf4f4",
   "metadata": {},
   "outputs": [
    {
     "name": "stdout",
     "output_type": "stream",
     "text": [
      "my name is Amu\n"
     ]
    }
   ],
   "source": [
    "print(\"my name is Amu\")\n"
   ]
  },
  {
   "cell_type": "code",
   "execution_count": 2,
   "id": "17f66874",
   "metadata": {},
   "outputs": [
    {
     "name": "stdout",
     "output_type": "stream",
     "text": [
      "hello world\n"
     ]
    }
   ],
   "source": [
    "print(\"hello world\")"
   ]
  },
  {
   "cell_type": "code",
   "execution_count": 3,
   "id": "a0088e22",
   "metadata": {},
   "outputs": [
    {
     "name": "stdout",
     "output_type": "stream",
     "text": [
      "1,5\n"
     ]
    }
   ],
   "source": [
    "print(\"1,5\")"
   ]
  },
  {
   "cell_type": "code",
   "execution_count": 33,
   "id": "bdaf6d5e",
   "metadata": {},
   "outputs": [
    {
     "name": "stdout",
     "output_type": "stream",
     "text": [
      "15\n"
     ]
    }
   ],
   "source": [
    " a = 5\n",
    " b = 10 \n",
    "print(a + b)"
   ]
  },
  {
   "cell_type": "code",
   "execution_count": 4,
   "id": "c6a520dd",
   "metadata": {},
   "outputs": [
    {
     "name": "stdout",
     "output_type": "stream",
     "text": [
      "125\n"
     ]
    }
   ],
   "source": [
    "print(5**3)"
   ]
  },
  {
   "cell_type": "code",
   "execution_count": 5,
   "id": "764f4841",
   "metadata": {},
   "outputs": [
    {
     "name": "stdout",
     "output_type": "stream",
     "text": [
      "20.0\n"
     ]
    }
   ],
   "source": [
    "print(100/5)"
   ]
  },
  {
   "cell_type": "code",
   "execution_count": 6,
   "id": "d3193b9f",
   "metadata": {},
   "outputs": [
    {
     "name": "stdout",
     "output_type": "stream",
     "text": [
      "600\n"
     ]
    }
   ],
   "source": [
    "print(60*10)"
   ]
  },
  {
   "cell_type": "code",
   "execution_count": 37,
   "id": "258956bb",
   "metadata": {},
   "outputs": [
    {
     "ename": "SyntaxError",
     "evalue": "invalid syntax (1789405929.py, line 1)",
     "output_type": "error",
     "traceback": [
      "\u001b[0;36m  Cell \u001b[0;32mIn[37], line 1\u001b[0;36m\u001b[0m\n\u001b[0;31m    salary_$ = 10000\u001b[0m\n\u001b[0m           ^\u001b[0m\n\u001b[0;31mSyntaxError\u001b[0m\u001b[0;31m:\u001b[0m invalid syntax\n"
     ]
    }
   ],
   "source": [
    "salary_$ = 10000\n",
    "print(salary)"
   ]
  },
  {
   "cell_type": "code",
   "execution_count": 7,
   "id": "45fad326",
   "metadata": {},
   "outputs": [
    {
     "name": "stdout",
     "output_type": "stream",
     "text": [
      "5\n"
     ]
    }
   ],
   "source": [
    "a = 3\n",
    "a += 2\n",
    "print(a)"
   ]
  },
  {
   "cell_type": "code",
   "execution_count": 8,
   "id": "56fbc97c",
   "metadata": {},
   "outputs": [
    {
     "name": "stdout",
     "output_type": "stream",
     "text": [
      "<class 'int'>\n",
      "<class 'float'>\n",
      "int\n"
     ]
    }
   ],
   "source": [
    "a = 5\n",
    "b=5.5\n",
    "print(type(a))\n",
    "print(type(b))\n",
    "print(type(a).__name__)"
   ]
  },
  {
   "cell_type": "code",
   "execution_count": 9,
   "id": "437c4c93",
   "metadata": {},
   "outputs": [
    {
     "name": "stdout",
     "output_type": "stream",
     "text": [
      "<class 'float'>\n"
     ]
    }
   ],
   "source": [
    "a=4.5\n",
    "print(type(a))"
   ]
  },
  {
   "cell_type": "code",
   "execution_count": 41,
   "id": "b1986347",
   "metadata": {},
   "outputs": [
    {
     "name": "stdout",
     "output_type": "stream",
     "text": [
      "4\n"
     ]
    }
   ],
   "source": [
    "b = int(a)\n",
    "print(b)"
   ]
  },
  {
   "cell_type": "code",
   "execution_count": 10,
   "id": "f54792fc",
   "metadata": {},
   "outputs": [
    {
     "name": "stdout",
     "output_type": "stream",
     "text": [
      "5.0\n"
     ]
    }
   ],
   "source": [
    "b = 5\n",
    "a = float(b)\n",
    "print(a)"
   ]
  },
  {
   "cell_type": "code",
   "execution_count": 43,
   "id": "7aa311e2",
   "metadata": {},
   "outputs": [
    {
     "name": "stdout",
     "output_type": "stream",
     "text": [
      "4.6\n"
     ]
    }
   ],
   "source": [
    "a = 4.56\n",
    "print(round(a,1))"
   ]
  },
  {
   "cell_type": "code",
   "execution_count": 44,
   "id": "2c4ef746",
   "metadata": {},
   "outputs": [
    {
     "name": "stdout",
     "output_type": "stream",
     "text": [
      "<class 'str'>\n"
     ]
    }
   ],
   "source": [
    " a = \"i love you\"\n",
    "print(type(a))\n"
   ]
  },
  {
   "cell_type": "code",
   "execution_count": 45,
   "id": "031a5d5c",
   "metadata": {},
   "outputs": [
    {
     "name": "stdout",
     "output_type": "stream",
     "text": [
      "<class 'str'>\n"
     ]
    }
   ],
   "source": [
    "a = 1\n",
    "b = str(a)\n",
    "print(type(b))"
   ]
  },
  {
   "cell_type": "code",
   "execution_count": 46,
   "id": "a44f4984",
   "metadata": {},
   "outputs": [
    {
     "name": "stdout",
     "output_type": "stream",
     "text": [
      "\" I love you \n"
     ]
    }
   ],
   "source": [
    "triple_string = \"\"\"\" I love you \"\"\"\n",
    "print(triple_string)"
   ]
  },
  {
   "cell_type": "code",
   "execution_count": 47,
   "id": "ffc5d7bd",
   "metadata": {},
   "outputs": [
    {
     "name": "stdout",
     "output_type": "stream",
     "text": [
      "amu says 'i love you'\n"
     ]
    }
   ],
   "source": [
    "a = \"amu says 'i love you'\"\n",
    "print(a)"
   ]
  },
  {
   "cell_type": "code",
   "execution_count": 48,
   "id": "08457cfe",
   "metadata": {},
   "outputs": [
    {
     "name": "stdout",
     "output_type": "stream",
     "text": [
      "Amu Adhikari\n"
     ]
    }
   ],
   "source": [
    "s1 = \"Amu\"\n",
    "s2 = \"Adhikari\"\n",
    "print(s1 +\" \"+s2)"
   ]
  },
  {
   "cell_type": "code",
   "execution_count": 49,
   "id": "c62a8c3f",
   "metadata": {},
   "outputs": [
    {
     "name": "stdout",
     "output_type": "stream",
     "text": [
      "my name is amu\n"
     ]
    }
   ],
   "source": [
    "a = \"my name is {}\".format(\"amu\")\n",
    "print(a)"
   ]
  },
  {
   "cell_type": "code",
   "execution_count": 11,
   "id": "dbf714b5",
   "metadata": {},
   "outputs": [
    {
     "name": "stdout",
     "output_type": "stream",
     "text": [
      "e\n"
     ]
    }
   ],
   "source": [
    "c = \"nice\"\n",
    "print(c[3])"
   ]
  },
  {
   "cell_type": "markdown",
   "id": "b64cde7a",
   "metadata": {},
   "source": [
    "<h1>Splitting text</h1>"
   ]
  },
  {
   "cell_type": "code",
   "execution_count": 12,
   "id": "9e02fb27",
   "metadata": {},
   "outputs": [
    {
     "name": "stdout",
     "output_type": "stream",
     "text": [
      "Brazil\n",
      "_aBr\n",
      "<class 'str'>\n"
     ]
    }
   ],
   "source": [
    "country = \"Brazil_aBr\"\n",
    "print(country[0:6])\n",
    "print(country[6:])\n",
    "print(type(country))"
   ]
  },
  {
   "cell_type": "code",
   "execution_count": 52,
   "id": "b4b5c1cd",
   "metadata": {},
   "outputs": [
    {
     "name": "stdout",
     "output_type": "stream",
     "text": [
      "<class 'list'>\n"
     ]
    }
   ],
   "source": [
    "a = country.split('a')\n",
    "print(type(a))\n"
   ]
  },
  {
   "cell_type": "code",
   "execution_count": null,
   "id": "c59e8c96",
   "metadata": {},
   "outputs": [],
   "source": [
    "a = country.split('a')[1] \n",
    "print(type(a))"
   ]
  },
  {
   "cell_type": "code",
   "execution_count": 14,
   "id": "62bcbf9f",
   "metadata": {},
   "outputs": [],
   "source": [
    "fruit = \"mangoandbanana\""
   ]
  },
  {
   "cell_type": "code",
   "execution_count": 15,
   "id": "5de1b536",
   "metadata": {},
   "outputs": [
    {
     "data": {
      "text/plain": [
       "['mango', 'banana']"
      ]
     },
     "execution_count": 15,
     "metadata": {},
     "output_type": "execute_result"
    }
   ],
   "source": [
    "fruit.split('and')"
   ]
  },
  {
   "cell_type": "code",
   "execution_count": 16,
   "id": "544d6bc3",
   "metadata": {},
   "outputs": [
    {
     "data": {
      "text/plain": [
       "['m', 'ngo', 'ndb', 'n']"
      ]
     },
     "execution_count": 16,
     "metadata": {},
     "output_type": "execute_result"
    }
   ],
   "source": [
    "fruit.split('a')[:4]"
   ]
  },
  {
   "cell_type": "code",
   "execution_count": null,
   "id": "7d034fbd",
   "metadata": {},
   "outputs": [],
   "source": [
    "h = \"I_am.working_in.australia_sydney.office\"\n",
    "b = h.split('.')[2].split('_')[0]\n",
    "print(b)"
   ]
  },
  {
   "cell_type": "code",
   "execution_count": null,
   "id": "e17c8ee7",
   "metadata": {},
   "outputs": [],
   "source": []
  },
  {
   "cell_type": "markdown",
   "id": "be322dc5",
   "metadata": {},
   "source": [
    "<h1> list in python </h1>"
   ]
  },
  {
   "cell_type": "markdown",
   "id": "dab567c8",
   "metadata": {},
   "source": [
    "fruits = [\"mango\", \"orange\",\"banana\", \"apple\"]\n",
    "print(fruits[2])\n",
    "fruits.index(\"banana\")"
   ]
  },
  {
   "cell_type": "markdown",
   "id": "4f541806",
   "metadata": {},
   "source": [
    "<h3>Determine the index number of degree element 'B.It' in row_2, and store the answer as a string in a variable named degree_index.\n",
    "Determine the index number of the age element 23 in row_4, and store the answer as an integer in a variable named age_index"
   ]
  },
  {
   "cell_type": "code",
   "execution_count": null,
   "id": "13ff1bcf",
   "metadata": {},
   "outputs": [],
   "source": [
    "row_1 = ['Prabhat', 24, 'Nepali', 'B.Sc.Cs.It', 79.1]\n",
    "\n",
    "row_2 = ['Sunil', 23, 'Nepali', 'B.It', 83.2]\n",
    "\n",
    "row_3 = ['Bhawana', 22, 'Canadian', 'B.E.Computer', 78.4]\n",
    "\n",
    "row_4 = ['Shiva', 23, 'Australian', 'B.It', 72.5]"
   ]
  },
  {
   "cell_type": "code",
   "execution_count": null,
   "id": "cca78167",
   "metadata": {},
   "outputs": [],
   "source": [
    "degree_index = str(row_2.index(\"B.It\"))\n",
    "print(type(degree_index))"
   ]
  },
  {
   "cell_type": "code",
   "execution_count": null,
   "id": "1c292b9d",
   "metadata": {},
   "outputs": [],
   "source": [
    "age_index = int(row_4.index(23))\n",
    "print(type(age_index))"
   ]
  },
  {
   "cell_type": "markdown",
   "id": "8550474a",
   "metadata": {},
   "source": [
    "<h1>Retriving values in a list(Question)</h1>\n",
    "    \n",
    "    \n",
    "<ul><li>Assign the second element from the list row_1 to a variable named age_1. Don't forget that the indexing starts at 0.</li></ul>\n",
    "Assign the second element from the list row_2 to a variable named age_2.\n",
    "Assign the second element from the list row_3 to a variable named age_3.\n",
    "Assign the second element from the list row_4 to a variable named age_4.\n",
    "Add the four numbers retrieved together and save the sum to a variable named total.\n",
    "Divide the sum (now saved in the variable total) by 4 to get the average number of age for the first four rows. Assign the result to a variable named average.\n"
   ]
  },
  {
   "cell_type": "code",
   "execution_count": null,
   "id": "3f64f8b5",
   "metadata": {},
   "outputs": [],
   "source": [
    "row1 = [\"a\", 20, \"c\", \"d\"]\n",
    "row2 = [\"e\", 25, \"g\", \"h\"]\n",
    "row3 = [\"i\", 30, \"k\", \"l\"]\n",
    "row4 = [\"m\", 15, \"o\", \"p\"]"
   ]
  },
  {
   "cell_type": "code",
   "execution_count": null,
   "id": "494e15ef",
   "metadata": {},
   "outputs": [],
   "source": [
    "age_1 = row1[1]\n",
    "age_2 = row2[1]\n",
    "age_3 = row3[1]\n",
    "age_4 = row4[1]\n",
    "total = age_1 + age_2 + age_3 + age_4\n",
    "average = total/4\n",
    "print(total)\n",
    "print(average)"
   ]
  },
  {
   "cell_type": "code",
   "execution_count": null,
   "id": "1f1000c6",
   "metadata": {},
   "outputs": [],
   "source": [
    "fruit = [\"apple\", \"mango\", \"grapes\", \"banana\"]\n",
    "print(fruit[-1])"
   ]
  },
  {
   "cell_type": "markdown",
   "id": "53e53341",
   "metadata": {},
   "source": [
    "<h1> list slicing </h1>"
   ]
  },
  {
   "cell_type": "code",
   "execution_count": 17,
   "id": "65b7562c",
   "metadata": {},
   "outputs": [
    {
     "name": "stdout",
     "output_type": "stream",
     "text": [
      "[1, 2, 3, 4]\n"
     ]
    }
   ],
   "source": [
    "a = [1,2,3,4,5,6]\n",
    "print(a[0:4])"
   ]
  },
  {
   "cell_type": "code",
   "execution_count": null,
   "id": "566f56ea",
   "metadata": {},
   "outputs": [],
   "source": [
    "print(a[-3:])"
   ]
  },
  {
   "cell_type": "code",
   "execution_count": null,
   "id": "a304f4f7",
   "metadata": {},
   "outputs": [],
   "source": [
    "fruits_dataset = [[\"Banana\", \"1 dozen\", 85], [\"Pineapple\", \"1 Kg\", 140],\n",
    "                  [\"Apple\", \"1 Kg\", 220], ['Orange', \"1 Kg\", 120]]"
   ]
  },
  {
   "cell_type": "code",
   "execution_count": null,
   "id": "036d8a4b",
   "metadata": {},
   "outputs": [],
   "source": [
    "a = (fruits_dataset[-1])"
   ]
  },
  {
   "cell_type": "code",
   "execution_count": null,
   "id": "9203f7e1",
   "metadata": {},
   "outputs": [],
   "source": [
    "print(a[-1])"
   ]
  },
  {
   "cell_type": "code",
   "execution_count": null,
   "id": "85ac54d2",
   "metadata": {},
   "outputs": [],
   "source": [
    "amu = [\"Amu\", 23, \"Butwal\" ]\n",
    "abhishek = [\"Abhishek\", 25, \"Butwal\"]\n",
    "radhika = [\"radhika\", 39, \"Butwal\"]\n",
    "Family = [amu, abhishek, radhika]\n",
    "a = (Family[0])\n",
    "print(type(a[1]))\n",
    "\n",
    "\n"
   ]
  },
  {
   "cell_type": "markdown",
   "id": "fbf37920",
   "metadata": {},
   "source": [
    "<h1> list concatenation method </h1>"
   ]
  },
  {
   "cell_type": "code",
   "execution_count": null,
   "id": "cb05946a",
   "metadata": {},
   "outputs": [],
   "source": [
    "list1 = [1,2,3]\n",
    "list2 = [4,5,6]\n",
    "list3 = list1 + list2\n",
    "print(list3)\n"
   ]
  },
  {
   "cell_type": "code",
   "execution_count": null,
   "id": "5f577237",
   "metadata": {},
   "outputs": [],
   "source": [
    "list4 = list1*2\n",
    "print(list4)"
   ]
  },
  {
   "cell_type": "markdown",
   "id": "3690f0d0",
   "metadata": {},
   "source": [
    "<h1> Insert method </h1>"
   ]
  },
  {
   "cell_type": "code",
   "execution_count": null,
   "id": "2e052531",
   "metadata": {},
   "outputs": [],
   "source": [
    "l1 = [21, 22, 23, 25]\n",
    "l1.insert(0, \"cat\")\n",
    "l1.insert(3, \"ball\")\n",
    "print(l1)"
   ]
  },
  {
   "cell_type": "code",
   "execution_count": null,
   "id": "0ad0bb7d",
   "metadata": {},
   "outputs": [],
   "source": [
    "l1 = ['a', 'b', 'c', 'd']\n",
    "l2 = ['e', 'f', 'g', 'h']\n",
    "l1.append(l2)\n",
    "print(l1)"
   ]
  },
  {
   "cell_type": "code",
   "execution_count": null,
   "id": "10e0016c",
   "metadata": {},
   "outputs": [],
   "source": [
    "h = [1,2,3]\n",
    "i = [4,5,6]\n",
    "h.extend(i)\n",
    "print(h)\n"
   ]
  },
  {
   "cell_type": "code",
   "execution_count": null,
   "id": "c8fe5e8b",
   "metadata": {},
   "outputs": [],
   "source": [
    "k = [10,11,12,56]\n",
    "k.pop(2)\n",
    "\n"
   ]
  },
  {
   "cell_type": "code",
   "execution_count": null,
   "id": "a9dc08cf",
   "metadata": {},
   "outputs": [],
   "source": [
    "k"
   ]
  },
  {
   "cell_type": "code",
   "execution_count": null,
   "id": "f5122606",
   "metadata": {},
   "outputs": [],
   "source": [
    "j = [\"apple\", \"ball\", \"cat\"]\n",
    "j.clear()\n",
    "j"
   ]
  },
  {
   "cell_type": "code",
   "execution_count": null,
   "id": "f5e2627a",
   "metadata": {},
   "outputs": [],
   "source": [
    "l = [2,4,6,8]\n",
    "del l[0]\n",
    "print(l)"
   ]
  },
  {
   "cell_type": "markdown",
   "id": "73a6dfd3",
   "metadata": {},
   "source": [
    "<h1> Dictonary"
   ]
  },
  {
   "cell_type": "code",
   "execution_count": null,
   "id": "b41f6b59",
   "metadata": {},
   "outputs": [],
   "source": [
    "a = {\"name\": \"amu\",\n",
    "     \"age\": 24,\n",
    "     \"address\": {\"city\": \"sydney\",\n",
    "                \"state\": \"NSW\",\n",
    "                \"suburb\": \"Auburn\"},\n",
    "     \"sex\": \"male\"\n",
    "     \n",
    "    }\n",
    "\n",
    "print(len(a))\n"
   ]
  },
  {
   "cell_type": "markdown",
   "id": "8eba92e3",
   "metadata": {},
   "source": [
    "<h1> Functions in python </h1>\n",
    "Built in function"
   ]
  },
  {
   "cell_type": "code",
   "execution_count": null,
   "id": "2fbbf4e2",
   "metadata": {},
   "outputs": [],
   "source": [
    "a_list = [4444, 8897, 6340, 9896, 4835, 4324, 10, 6445,\n",
    "          661, 1246, 1000, 7429, 1376, 8121, 647, 1280,\n",
    "          3993, 4881, 9500, 6701, 1199, 6251, 4432, 37]"
   ]
  },
  {
   "cell_type": "code",
   "execution_count": null,
   "id": "ef3f146d",
   "metadata": {},
   "outputs": [],
   "source": [
    "sum = 0\n",
    "for item in a_list:\n",
    "    sum = sum + item\n",
    "print(sum)\n",
    "    "
   ]
  },
  {
   "cell_type": "markdown",
   "id": "a7e561a8",
   "metadata": {},
   "source": [
    "<h1> User defined function"
   ]
  },
  {
   "cell_type": "code",
   "execution_count": null,
   "id": "163cbada",
   "metadata": {},
   "outputs": [],
   "source": [
    "def my_name():\n",
    "    print(\"amu\")\n",
    "my_name()"
   ]
  },
  {
   "cell_type": "markdown",
   "id": "5268f362",
   "metadata": {},
   "source": [
    "<h1> Parameterised Function"
   ]
  },
  {
   "cell_type": "code",
   "execution_count": null,
   "id": "12f11508",
   "metadata": {},
   "outputs": [],
   "source": [
    "def square(number):\n",
    "    result = number * number\n",
    "    return result\n",
    "\n",
    "\n"
   ]
  },
  {
   "cell_type": "code",
   "execution_count": null,
   "id": "8677cc96",
   "metadata": {},
   "outputs": [],
   "source": [
    "print(\"The square is\",str(square(10)))"
   ]
  },
  {
   "cell_type": "markdown",
   "id": "6c486b7c",
   "metadata": {},
   "source": [
    "<h1> function with default agrument"
   ]
  },
  {
   "cell_type": "code",
   "execution_count": null,
   "id": "daa809fa",
   "metadata": {},
   "outputs": [],
   "source": [
    "def square(number = 2):\n",
    "    result = number * number\n",
    "    return result\n",
    "\n"
   ]
  },
  {
   "cell_type": "code",
   "execution_count": null,
   "id": "96cbc1bd",
   "metadata": {},
   "outputs": [],
   "source": [
    "square(3)"
   ]
  },
  {
   "cell_type": "code",
   "execution_count": null,
   "id": "e94e0d03",
   "metadata": {},
   "outputs": [],
   "source": [
    "def multiplication(a=2,b=5):\n",
    "    result = a * b\n",
    "    return result"
   ]
  },
  {
   "cell_type": "code",
   "execution_count": null,
   "id": "7c3f09d0",
   "metadata": {},
   "outputs": [],
   "source": [
    "multiplication()"
   ]
  },
  {
   "cell_type": "markdown",
   "id": "53877111",
   "metadata": {},
   "source": [
    "<h1> Create a function named mul_5() that does the following:\n",
    "\n",
    "Takes a number as the input (name the input variable as you wish)\n",
    "Multiply the integer 5 to that number.\n",
    "Returns the result of the multiplication.\n",
    "Use the mul_5() function to do the following:\n",
    "Multiply by 5 to the number 20 — assign the result to a variable named mul_20\n",
    "Multiply by 5 to the number 16 — assign the result to a variable named mul_16"
   ]
  },
  {
   "cell_type": "code",
   "execution_count": null,
   "id": "74a80d92",
   "metadata": {},
   "outputs": [],
   "source": [
    "def mul_5(a):\n",
    "    result = 5 * a\n",
    "    return result\n",
    "    "
   ]
  },
  {
   "cell_type": "code",
   "execution_count": null,
   "id": "57addbe5",
   "metadata": {},
   "outputs": [],
   "source": [
    "mul_20 = mul_5(20)\n",
    "print(mul_20)"
   ]
  },
  {
   "cell_type": "code",
   "execution_count": null,
   "id": "606f2ebf",
   "metadata": {},
   "outputs": [],
   "source": [
    "mul_16 = mul_5(16)\n",
    "print(mul_16)"
   ]
  },
  {
   "cell_type": "markdown",
   "id": "0d7bfbb1",
   "metadata": {},
   "source": [
    "<h1> keyword argument"
   ]
  },
  {
   "cell_type": "code",
   "execution_count": null,
   "id": "567d58c0",
   "metadata": {},
   "outputs": [],
   "source": [
    "def subs(a=15,b=5):\n",
    "    result = a - b\n",
    "    return result"
   ]
  },
  {
   "cell_type": "code",
   "execution_count": null,
   "id": "fd19f043",
   "metadata": {},
   "outputs": [],
   "source": [
    "subs(b=20,a=30)"
   ]
  },
  {
   "cell_type": "code",
   "execution_count": null,
   "id": "5d401b50",
   "metadata": {},
   "outputs": [],
   "source": [
    "header = ['Name', 'Gender', 'Age', 'Faculty', 'Semester', 'Percentage Score']\n",
    "student_1 = ['Ram', 'male',23, 'B.C.A', 'Seventh Semester', 78.2]\n",
    "student_2 = ['Shyam','male',21,'B.C.A', 'Fifth Semester',67.5]\n",
    "student_3 = ['Abhishek','male',22, 'B.Sc.Cs.It', 'Seventh Semester',82.4]\n",
    "student_4 = ['Mahima','female',20, 'B.Sc.Cs.It', 'Fifth Semester',87.3]\n",
    "student_5 = ['Sanjana','female',22, 'B.Sc.Cs.It', 'Seventh Semester',69.8]\n",
    "student_6 = ['Prabhat', 'male',23, 'B.Sc.Cs.It', 'Seventh Semester', 80.2]\n",
    "student_7 = ['Ashmita','female',21,'B.Sc.Cs.It', 'Fifth Semester',81.5]\n",
    "student_8 = ['Shanti','female',22, 'B.Sc.Cs.It', 'Fifth Semester',72.4]\n",
    "student_9 = ['Himal','male',20, 'B.C.A', 'Fifth Semester',78.3]\n",
    "student_10 = ['Rabina','female',22, 'B.I.M', 'Seventh Semester',75.8]\n",
    "student_11 = ['Kamal', 'male',23, 'B.I.M', 'Fifth Semester', 80.2]\n",
    "student_12= ['Bhawana','female',21,'B.I.M', 'Third Semester',81.5]\n",
    "student_13 = ['Sunil','male',22, 'B.I.M', 'Fourth Semester',72.4]\n",
    "student_14= ['Nirisha','female',20, 'B.I.M', 'Fourth Semester',78.3]\n",
    "student_15 = ['Sushmita','female',22, 'B.I.M', 'Third Semester',75.8]\n",
    "student_16 = ['Alisha', 'female',20, 'B.A.L.L.B', 'Second Semester', 70.2]\n",
    "student_17 = ['Dipen','male',23,'B.C.A', 'Fifth Semester',67.5]\n",
    "student_18 = ['Purnima','female',23, 'B.A.L.L.B', 'Seventh Semester',81.4]\n",
    "student_19 = ['Aastha','female',24, 'B.Sc.Cs.It', 'Fifth Semester',83.3]\n",
    "student_20 = ['Pramila','female',24, 'B.Sc.Cs.It', 'Seventh Semester',79.8]\n",
    "student_21 = ['Pawan', 'male',24, 'B.Sc.Cs.It', 'Third Semester', 70.2]\n",
    "student_22 = ['Prakriti','female',22,'B.A.L.L.B', 'Fifth Semester',69.5]\n",
    "student_23 = ['Nabina','female',23, 'B.Sc.Cs.It', 'Second Semester',77.4]\n",
    "student_24 = ['Siddhant','male',23, 'B.C.A', 'Fifth Semester',78.3]\n",
    "student_25 = ['Goma','female',25, 'B.A.L.L.B', 'Seventh Semester',72.8]\n",
    "student_26 = ['Rijan', 'male',23, 'B.I.M', 'Fifth Semester', 81.2]\n",
    "student_27 = ['Rihans','male',21,'B.C.A', 'Third Semester',86.5]\n",
    "student_28 = ['Kabya','female',22, 'B.I.M', 'Second Semester',78.4]\n",
    "student_29 = ['Abhi','male',20, 'B.I.M', 'Fourth Semester',71.3]\n",
    "student_30 = ['Seema','female',25, 'B.I.M', 'Fifth Semester',69.8]\n",
    "student_datasets = [header, student_1, student_2, student_3, student_4, student_5,\n",
    "                    student_6, student_7, student_8, student_9, student_10,\n",
    "                   student_11, student_12, student_13, student_14,student_15,\n",
    "                   student_16, student_17, student_18, student_19, student_20,\n",
    "                    student_21, student_22, student_23, student_24, student_25,\n",
    "                   student_26, student_27, student_28, student_29, student_30]\n"
   ]
  },
  {
   "cell_type": "markdown",
   "id": "be9b9e2d",
   "metadata": {},
   "source": [
    "<h3>Question: Write a function named extract() that can extract any column you want from the student_datasets.\n",
    "The function should take in the index number of a column as input (name the parameter whatever you want)\n",
    "Inside the function's definition, complete the following:\n",
    "Create an empty list\n",
    "Loop through the student_datasets dataset (excluding the header).\n",
    "Extract only the value you want by using the parameter (which will be an index number)\n",
    "Append that value to the empty list\n",
    "Return the list containing the values of the column\n",
    "Use the extract() function to extract the values in the Faculty column and store them in a variable named faculties.\n",
    "Use the extract() function to extract the values in the Semester column and store them in a variable named semesters."
   ]
  },
  {
   "cell_type": "code",
   "execution_count": null,
   "id": "802a275d",
   "metadata": {},
   "outputs": [],
   "source": [
    "def extract(index_number):\n",
    "    empty_list = []\n",
    "    for items in student_datasets[1:]:\n",
    "         empty_list.append(items[index_number])\n",
    "    return empty_list\n",
    "\n",
    "    \n",
    "   "
   ]
  },
  {
   "cell_type": "code",
   "execution_count": null,
   "id": "94e92c2f",
   "metadata": {},
   "outputs": [],
   "source": [
    "extract(0)"
   ]
  },
  {
   "cell_type": "code",
   "execution_count": 53,
   "id": "2b7472f2",
   "metadata": {},
   "outputs": [
    {
     "ename": "SyntaxError",
     "evalue": "invalid syntax. Perhaps you forgot a comma? (4214947816.py, line 4)",
     "output_type": "error",
     "traceback": [
      "\u001b[0;36m  Cell \u001b[0;32mIn[53], line 4\u001b[0;36m\u001b[0m\n\u001b[0;31m    empty_list.append(items[])\u001b[0m\n\u001b[0m                      ^\u001b[0m\n\u001b[0;31mSyntaxError\u001b[0m\u001b[0;31m:\u001b[0m invalid syntax. Perhaps you forgot a comma?\n"
     ]
    }
   ],
   "source": [
    "def extract(index_number):\n",
    "    empty_list = []\n",
    "    for items in student_datasets[1:]:\n",
    "         empty_list.append(items[])\n",
    "    return empty_list"
   ]
  },
  {
   "cell_type": "code",
   "execution_count": null,
   "id": "94c2753c",
   "metadata": {},
   "outputs": [],
   "source": []
  },
  {
   "cell_type": "markdown",
   "id": "d9f8b055",
   "metadata": {},
   "source": [
    "<h1> loops in python"
   ]
  },
  {
   "cell_type": "code",
   "execution_count": null,
   "id": "e7a059b5",
   "metadata": {},
   "outputs": [],
   "source": [
    "student_datasets"
   ]
  },
  {
   "cell_type": "code",
   "execution_count": null,
   "id": "f52f2155",
   "metadata": {},
   "outputs": [],
   "source": [
    "average = 0\n",
    "total = 0\n",
    "\n",
    "for items in student_datasets[1:]:\n",
    "    list_of = []\n",
    "    percentage = items[5]\n",
    "    total = percentage + total\n",
    "    list_of.append(percentage)\n",
    "    print(type(list_of))\n",
    "    print(type(percentage))\n",
    "    \n",
    "    \n",
    "    \n",
    "print(total/30)\n",
    "print(list_of)\n",
    "\n",
    "    \n",
    "    \n"
   ]
  },
  {
   "cell_type": "code",
   "execution_count": null,
   "id": "65fe26ae",
   "metadata": {},
   "outputs": [],
   "source": [
    "list0 = [1,2,3,5,7,9,4]"
   ]
  },
  {
   "cell_type": "code",
   "execution_count": null,
   "id": "b569dbcd",
   "metadata": {},
   "outputs": [],
   "source": [
    "square = []\n",
    "for item in list0:\n",
    "    result= item * item\n",
    "    square.append(result)\n",
    "\n",
    "    \n",
    "\n",
    "   \n"
   ]
  },
  {
   "cell_type": "code",
   "execution_count": null,
   "id": "ed3ddf82",
   "metadata": {},
   "outputs": [],
   "source": [
    "for i in range(0,101,5):\n",
    "    print(i)"
   ]
  },
  {
   "cell_type": "code",
   "execution_count": null,
   "id": "72c9559b",
   "metadata": {},
   "outputs": [],
   "source": [
    "list = []\n",
    "for i in range(0,20,2):\n",
    "    result = i*i\n",
    "    list.append(result)\n",
    "print(list)\n",
    "    "
   ]
  },
  {
   "cell_type": "code",
   "execution_count": null,
   "id": "aad10d0c",
   "metadata": {},
   "outputs": [],
   "source": [
    "list = []\n",
    "for i in range(0,20):\n",
    "    if i%2 != 0:\n",
    "        list.append(i*i)\n",
    "print(list)\n",
    "   "
   ]
  },
  {
   "cell_type": "markdown",
   "id": "28e23094",
   "metadata": {},
   "source": [
    "list1 = [12, 13, 14, 15, 16, 18, 20, 21]\n",
    "<h1>Python list comprehension technique"
   ]
  },
  {
   "cell_type": "code",
   "execution_count": null,
   "id": "c50518f9",
   "metadata": {},
   "outputs": [],
   "source": [
    "list1 = [12, 13, 14, 15, 16, 18, 20, 21]\n",
    "answer = [value+1 for value in list1 if value%2 == 1]\n",
    "print(answer)\n"
   ]
  },
  {
   "cell_type": "code",
   "execution_count": null,
   "id": "f880e7d8",
   "metadata": {},
   "outputs": [],
   "source": [
    "list2 = [3,5,7,8,10,11]\n",
    "ans = [value+1 for value in list2 if value%2 == 0]\n",
    "print(ans)"
   ]
  },
  {
   "cell_type": "code",
   "execution_count": null,
   "id": "fb4e7ab9",
   "metadata": {},
   "outputs": [],
   "source": [
    "dict1 = {\"name\": \"prabhat\", \"age\": 23, \"location\": \"manigram\", \"level\": \"bachelor\",\n",
    "        \"faculty\": \"B.Sc.Cs.It\", \"weight\": 70, \"height\": \"5ft 5inch\"}\n"
   ]
  },
  {
   "cell_type": "code",
   "execution_count": null,
   "id": "fb74d6bd",
   "metadata": {},
   "outputs": [],
   "source": [
    "dict1.keys()"
   ]
  },
  {
   "cell_type": "code",
   "execution_count": null,
   "id": "9e351f1b",
   "metadata": {},
   "outputs": [],
   "source": [
    "dict1.items()"
   ]
  },
  {
   "cell_type": "code",
   "execution_count": null,
   "id": "7b8e2b75",
   "metadata": {},
   "outputs": [],
   "source": [
    "dict1[\"name\"]"
   ]
  },
  {
   "cell_type": "code",
   "execution_count": null,
   "id": "33d6da1d",
   "metadata": {},
   "outputs": [],
   "source": [
    "list_t = []\n",
    "list_v = []\n",
    "for key, value in dict1.items():\n",
    "    list_t.append(key)\n",
    "    list_v.append(value)\n",
    "print(list_t)\n",
    "print(list_v)\n",
    "    \n"
   ]
  },
  {
   "cell_type": "code",
   "execution_count": null,
   "id": "54c8e6a7",
   "metadata": {},
   "outputs": [],
   "source": [
    "ratings = ['4+', '9+', '12+', '4+', '17+', '4+', '9+', '4+', '12+', '17+', '9+',\n",
    "           '4+', '12+', '9+', '12+', '4+', '17+', '4+', '12+', '12+', '17+',\n",
    "           '9+', '9+', '4+', '4+', '9+', '12+', '17+', '12+', '17+']\n"
   ]
  },
  {
   "cell_type": "code",
   "execution_count": null,
   "id": "41de1df1",
   "metadata": {},
   "outputs": [],
   "source": [
    "ratings_dict = {\"4+\": 0, \"9+\":0, \"12+\":0, \"17+\":0}"
   ]
  },
  {
   "cell_type": "code",
   "execution_count": null,
   "id": "28bc1040",
   "metadata": {},
   "outputs": [],
   "source": [
    "for items in ratings:\n",
    "    if items in ratings_dict:\n",
    "        ratings_dict[items] += 1\n",
    "       \n",
    "        "
   ]
  },
  {
   "cell_type": "code",
   "execution_count": null,
   "id": "389f8cd7",
   "metadata": {},
   "outputs": [],
   "source": [
    "print(ratings_dict)"
   ]
  },
  {
   "cell_type": "code",
   "execution_count": null,
   "id": "d6cf39bb",
   "metadata": {},
   "outputs": [],
   "source": [
    "student_datasets"
   ]
  },
  {
   "cell_type": "markdown",
   "id": "31639fb4",
   "metadata": {},
   "source": [
    "<h1>From the given list, find out the frequency table for the following:\n",
    "\n",
    "Frequency count table for gender.\n",
    "Frequency count table for age.\n",
    "Frequency count table for faculty.\n",
    "Frequency count table for semester level."
   ]
  },
  {
   "cell_type": "code",
   "execution_count": null,
   "id": "105bc0ae",
   "metadata": {},
   "outputs": [],
   "source": [
    "dict_gender = {}\n",
    "for student in student_datasets[1:]:\n",
    "    gender = student[1]\n",
    "    if gender not in dict_gender:\n",
    "        dict_gender[gender] = 1\n",
    "        \n",
    "\n",
    "       \n",
    "    else:\n",
    "        dict_gender[gender] += 1\n",
    "print(dict_gender)\n",
    "   \n",
    "            \n",
    "    "
   ]
  },
  {
   "cell_type": "code",
   "execution_count": null,
   "id": "4089ffba",
   "metadata": {},
   "outputs": [],
   "source": [
    "student_datasets\n",
    "        \n",
    "        \n",
    "        \n",
    "        \n",
    "         \n",
    "        \n",
    "        \n",
    "        \n",
    "    \n",
    "    "
   ]
  },
  {
   "cell_type": "code",
   "execution_count": null,
   "id": "d2e3b9ba",
   "metadata": {},
   "outputs": [],
   "source": [
    "dict_age = {}\n",
    "for students in student_datasets[1:]:\n",
    "    age = students[2]\n",
    "    if age not in dict_age:\n",
    "        dict_age[age] = 1\n",
    "    else:\n",
    "        dict_age[age] += 1\n",
    "\n",
    "\n"
   ]
  },
  {
   "cell_type": "code",
   "execution_count": null,
   "id": "0874a80f",
   "metadata": {},
   "outputs": [],
   "source": [
    "print(dict_age)"
   ]
  },
  {
   "cell_type": "code",
   "execution_count": null,
   "id": "18e1998f",
   "metadata": {},
   "outputs": [],
   "source": [
    "student_datasets\n"
   ]
  },
  {
   "cell_type": "markdown",
   "id": "7a6aeca7",
   "metadata": {},
   "source": [
    "<h2>Question: Write a function named freq_table() that generates a frequency table for any list.\n",
    "The function should take in a list as input.\n",
    "Inside the function's body, write code that generates a frequency table for that list and stores the table in a dictionary.\n",
    "Finally, return the frequency table as a dictionary.\n",
    "Use the freq_table() function on the faculties list (already defined from the previous exercise) to generate the frequency table for the faculites column and store the frequency table to a variable named faculties_ft.\n",
    "Feel free to experiment with the extract() and freq_table() functions to easily create frequency tables for any column you want.\n",
    "   "
   ]
  },
  {
   "cell_type": "code",
   "execution_count": null,
   "id": "88413d8a",
   "metadata": {},
   "outputs": [],
   "source": [
    "def freq_table(inp_list):\n",
    "    freq_dist = {}\n",
    "    for items in inp_list:\n",
    "        if items not in freq_dist:\n",
    "            freq_dist[items] = 1\n",
    "        else:\n",
    "            freq_dist[items] += 1\n",
    "    \n",
    "    return freq_dist"
   ]
  },
  {
   "cell_type": "code",
   "execution_count": null,
   "id": "c38ef1a8",
   "metadata": {},
   "outputs": [],
   "source": [
    "freq_table([1,1,5,9,3,8,9,3,8])"
   ]
  },
  {
   "cell_type": "code",
   "execution_count": null,
   "id": "8b4d31c7",
   "metadata": {},
   "outputs": [],
   "source": [
    "age_list=[]\n",
    "faculty_list =[]\n",
    "gender_list = []\n",
    "semester_list = []\n",
    "\n",
    "for student in student_datasets[1:]:\n",
    "    age_data = student[2]\n",
    "    faculty_data = student[3]\n",
    "    gender_data = student[1]\n",
    "    semester_data = student[4]\n",
    "    \n",
    "    age_list.append(age_data)\n",
    "    faculty_list.append(faculty_data)\n",
    "    gender_list.append(gender_data)\n",
    "    semester_list.append(semester_data)\n",
    "    "
   ]
  },
  {
   "cell_type": "code",
   "execution_count": null,
   "id": "dc852c3a",
   "metadata": {},
   "outputs": [],
   "source": [
    "age_list"
   ]
  },
  {
   "cell_type": "code",
   "execution_count": null,
   "id": "541b8c4d",
   "metadata": {},
   "outputs": [],
   "source": [
    "semester_list"
   ]
  },
  {
   "cell_type": "code",
   "execution_count": null,
   "id": "9eaec281",
   "metadata": {},
   "outputs": [],
   "source": [
    "faculty_list"
   ]
  },
  {
   "cell_type": "code",
   "execution_count": null,
   "id": "bf3c2fa1",
   "metadata": {},
   "outputs": [],
   "source": [
    "age_list"
   ]
  },
  {
   "cell_type": "code",
   "execution_count": null,
   "id": "368bb551",
   "metadata": {},
   "outputs": [],
   "source": [
    "freq_table(age_list)"
   ]
  },
  {
   "cell_type": "code",
   "execution_count": null,
   "id": "a42a7f7e",
   "metadata": {},
   "outputs": [],
   "source": [
    "freq_table(semester_list)"
   ]
  },
  {
   "cell_type": "code",
   "execution_count": null,
   "id": "88404485",
   "metadata": {},
   "outputs": [],
   "source": [
    "from datetime import datetime\n"
   ]
  },
  {
   "cell_type": "code",
   "execution_count": null,
   "id": "3f521899",
   "metadata": {},
   "outputs": [],
   "source": [
    "someday = dt.date(2023,12,2)"
   ]
  },
  {
   "cell_type": "code",
   "execution_count": null,
   "id": "bf841e7a",
   "metadata": {},
   "outputs": [],
   "source": [
    "from datetime import datetime as dt\n",
    "current_time = dt.now()\n"
   ]
  },
  {
   "cell_type": "code",
   "execution_count": null,
   "id": "d363ad36",
   "metadata": {},
   "outputs": [],
   "source": [
    "type(current_time)"
   ]
  },
  {
   "cell_type": "code",
   "execution_count": null,
   "id": "bcc97079",
   "metadata": {},
   "outputs": [],
   "source": [
    "birthday = dt(2022,12,13) "
   ]
  },
  {
   "cell_type": "code",
   "execution_count": null,
   "id": "81aaf637",
   "metadata": {},
   "outputs": [],
   "source": [
    "birthday.year"
   ]
  },
  {
   "cell_type": "code",
   "execution_count": null,
   "id": "12405530",
   "metadata": {},
   "outputs": [],
   "source": [
    "birthday.month"
   ]
  },
  {
   "cell_type": "markdown",
   "id": "76ba1066",
   "metadata": {},
   "source": [
    "<h3>Strp time function\n",
    "syntax: time.strptime(string,format)\n",
    "    string: The time in any format\n",
    "    format: this is the directive ehich will be used to parse the given string"
   ]
  },
  {
   "cell_type": "code",
   "execution_count": null,
   "id": "6820327b",
   "metadata": {},
   "outputs": [],
   "source": [
    "day = \"march 28,1998\""
   ]
  },
  {
   "cell_type": "code",
   "execution_count": null,
   "id": "7e23ef96",
   "metadata": {},
   "outputs": [],
   "source": [
    "d = dt.strptime(day,\"%B %d,%Y\")"
   ]
  },
  {
   "cell_type": "code",
   "execution_count": null,
   "id": "476ee91c",
   "metadata": {},
   "outputs": [],
   "source": [
    "day"
   ]
  },
  {
   "cell_type": "code",
   "execution_count": null,
   "id": "70071d5c",
   "metadata": {},
   "outputs": [],
   "source": [
    "type(day.split(\" \")[0])"
   ]
  },
  {
   "cell_type": "code",
   "execution_count": null,
   "id": "00e3f66e",
   "metadata": {},
   "outputs": [],
   "source": [
    "import os"
   ]
  },
  {
   "cell_type": "markdown",
   "id": "58367319",
   "metadata": {},
   "source": [
    "os.cwd function"
   ]
  },
  {
   "cell_type": "code",
   "execution_count": null,
   "id": "a7e9dd8b",
   "metadata": {},
   "outputs": [],
   "source": [
    "os.getcwd()"
   ]
  },
  {
   "cell_type": "code",
   "execution_count": null,
   "id": "4d467436",
   "metadata": {},
   "outputs": [],
   "source": [
    "os.listdir()"
   ]
  },
  {
   "cell_type": "code",
   "execution_count": null,
   "id": "eae43a3a",
   "metadata": {},
   "outputs": [],
   "source": [
    "os.mkdir(\"requirement.txt\")"
   ]
  },
  {
   "cell_type": "code",
   "execution_count": null,
   "id": "86888424",
   "metadata": {},
   "outputs": [],
   "source": [
    "os.listdir()"
   ]
  },
  {
   "cell_type": "markdown",
   "id": "5b22540c",
   "metadata": {},
   "source": [
    "<h1> File handling in python"
   ]
  },
  {
   "cell_type": "code",
   "execution_count": null,
   "id": "6b6e8d02",
   "metadata": {},
   "outputs": [],
   "source": [
    "import os "
   ]
  },
  {
   "cell_type": "code",
   "execution_count": null,
   "id": "dbab9202",
   "metadata": {},
   "outputs": [],
   "source": [
    "os.mkdir(\"requirement.txt\")"
   ]
  },
  {
   "cell_type": "code",
   "execution_count": null,
   "id": "deb4ded3",
   "metadata": {},
   "outputs": [],
   "source": [
    "os.listdir()"
   ]
  },
  {
   "cell_type": "code",
   "execution_count": null,
   "id": "0f2b7fb4",
   "metadata": {},
   "outputs": [],
   "source": []
  },
  {
   "cell_type": "code",
   "execution_count": null,
   "id": "c979dd80",
   "metadata": {},
   "outputs": [],
   "source": [
    "os.path.exists('requirement.txt')"
   ]
  },
  {
   "cell_type": "code",
   "execution_count": null,
   "id": "9e87b410",
   "metadata": {},
   "outputs": [],
   "source": [
    "f1 = open('requirement.txt', 'w')"
   ]
  },
  {
   "cell_type": "code",
   "execution_count": null,
   "id": "9ee64dd0",
   "metadata": {},
   "outputs": [],
   "source": [
    "f1.write(\"hello i am amu\")"
   ]
  },
  {
   "cell_type": "code",
   "execution_count": null,
   "id": "e305b59a",
   "metadata": {},
   "outputs": [],
   "source": [
    "os.listdir()"
   ]
  },
  {
   "cell_type": "code",
   "execution_count": null,
   "id": "43797e96",
   "metadata": {},
   "outputs": [],
   "source": [
    "os.path.exists('Balaji Fast Food Sales.csv')"
   ]
  },
  {
   "cell_type": "code",
   "execution_count": null,
   "id": "5e1f61c5",
   "metadata": {},
   "outputs": [],
   "source": [
    "csv_file = open('Balaji Fast Food Sales.csv')"
   ]
  },
  {
   "cell_type": "code",
   "execution_count": null,
   "id": "a57eba13",
   "metadata": {},
   "outputs": [],
   "source": [
    "type(csv_file)"
   ]
  },
  {
   "cell_type": "code",
   "execution_count": null,
   "id": "f1835f7c",
   "metadata": {},
   "outputs": [],
   "source": [
    "from csv import reader"
   ]
  },
  {
   "cell_type": "code",
   "execution_count": null,
   "id": "457b7915",
   "metadata": {},
   "outputs": [],
   "source": [
    "data = reader(csv_file)"
   ]
  },
  {
   "cell_type": "code",
   "execution_count": null,
   "id": "5077e012",
   "metadata": {},
   "outputs": [],
   "source": [
    "type(data)"
   ]
  },
  {
   "cell_type": "code",
   "execution_count": null,
   "id": "e5fe6bef",
   "metadata": {},
   "outputs": [],
   "source": [
    "dataset = list(data)"
   ]
  },
  {
   "cell_type": "code",
   "execution_count": null,
   "id": "b738bb4e",
   "metadata": {},
   "outputs": [],
   "source": [
    "dataset"
   ]
  },
  {
   "cell_type": "code",
   "execution_count": null,
   "id": "1d60a3d2",
   "metadata": {},
   "outputs": [],
   "source": [
    "import numpy as np"
   ]
  },
  {
   "cell_type": "code",
   "execution_count": null,
   "id": "b4d5c381",
   "metadata": {},
   "outputs": [],
   "source": [
    "age_of_student = np.array([1,2,3,4])"
   ]
  },
  {
   "cell_type": "code",
   "execution_count": null,
   "id": "37d7869e",
   "metadata": {},
   "outputs": [],
   "source": [
    "age_of_student"
   ]
  },
  {
   "cell_type": "code",
   "execution_count": null,
   "id": "e55c961a",
   "metadata": {},
   "outputs": [],
   "source": [
    "amu =[]\n",
    "for items in range(0,1000000):\n",
    "    amu.append(items)\n",
    "    \n",
    "\n"
   ]
  },
  {
   "cell_type": "code",
   "execution_count": null,
   "id": "aa7ce857",
   "metadata": {},
   "outputs": [],
   "source": [
    "from sys import getsizeof"
   ]
  },
  {
   "cell_type": "code",
   "execution_count": null,
   "id": "0e5bcc39",
   "metadata": {},
   "outputs": [],
   "source": [
    "print(getsizeof(age_of_student))"
   ]
  },
  {
   "cell_type": "code",
   "execution_count": null,
   "id": "add250bd",
   "metadata": {},
   "outputs": [],
   "source": [
    "list1 = np.array([1,2,3,4])"
   ]
  },
  {
   "cell_type": "code",
   "execution_count": null,
   "id": "be2914dc",
   "metadata": {},
   "outputs": [],
   "source": [
    "print(getsizeof(list1))"
   ]
  },
  {
   "cell_type": "code",
   "execution_count": null,
   "id": "be368934",
   "metadata": {},
   "outputs": [],
   "source": [
    "print(getsizeof(amu))"
   ]
  },
  {
   "cell_type": "code",
   "execution_count": 18,
   "id": "8207eb14",
   "metadata": {},
   "outputs": [
    {
     "ename": "NameError",
     "evalue": "name 'np' is not defined",
     "output_type": "error",
     "traceback": [
      "\u001b[0;31m---------------------------------------------------------------------------\u001b[0m",
      "\u001b[0;31mNameError\u001b[0m                                 Traceback (most recent call last)",
      "Cell \u001b[0;32mIn[18], line 1\u001b[0m\n\u001b[0;32m----> 1\u001b[0m amu1 \u001b[38;5;241m=\u001b[39m np\u001b[38;5;241m.\u001b[39marray(amu)\n",
      "\u001b[0;31mNameError\u001b[0m: name 'np' is not defined"
     ]
    }
   ],
   "source": [
    "amu1 = np.array(amu)"
   ]
  },
  {
   "cell_type": "code",
   "execution_count": null,
   "id": "80241acf",
   "metadata": {},
   "outputs": [],
   "source": [
    "print(getsizeof(amu1))"
   ]
  },
  {
   "cell_type": "markdown",
   "id": "52ad8828",
   "metadata": {},
   "source": [
    "<h1>Dimension in array"
   ]
  },
  {
   "cell_type": "code",
   "execution_count": null,
   "id": "6e229612",
   "metadata": {},
   "outputs": [],
   "source": [
    "list = [1,2,3,4]"
   ]
  },
  {
   "cell_type": "code",
   "execution_count": null,
   "id": "d15c04b1",
   "metadata": {},
   "outputs": [],
   "source": [
    "one_dimension_array = np.array([list])"
   ]
  },
  {
   "cell_type": "code",
   "execution_count": null,
   "id": "f222d7a4",
   "metadata": {},
   "outputs": [],
   "source": [
    "two_dimension_array = np.array([[1,2,3,4], [5,6,7,8]])"
   ]
  },
  {
   "cell_type": "code",
   "execution_count": null,
   "id": "f8d4d66d",
   "metadata": {},
   "outputs": [],
   "source": [
    "one_dimension_array.ndim"
   ]
  },
  {
   "cell_type": "code",
   "execution_count": null,
   "id": "e26030f8",
   "metadata": {},
   "outputs": [],
   "source": [
    "four_dimension_array = np.array([[[[1,2,3,4], [5,6,7,8]]]])"
   ]
  },
  {
   "cell_type": "code",
   "execution_count": null,
   "id": "128bb539",
   "metadata": {},
   "outputs": [],
   "source": [
    "four_dimension_array.ndim"
   ]
  },
  {
   "cell_type": "code",
   "execution_count": null,
   "id": "cad9ec60",
   "metadata": {},
   "outputs": [],
   "source": [
    "print(len(two_dimension_array))"
   ]
  },
  {
   "cell_type": "code",
   "execution_count": null,
   "id": "d99a7932",
   "metadata": {},
   "outputs": [],
   "source": [
    "two_dimension_array.shape"
   ]
  },
  {
   "cell_type": "code",
   "execution_count": null,
   "id": "9a332ae6",
   "metadata": {},
   "outputs": [],
   "source": [
    "result = np.add(two_dimension_array,two_dimension_array)"
   ]
  },
  {
   "cell_type": "code",
   "execution_count": null,
   "id": "2401c103",
   "metadata": {},
   "outputs": [],
   "source": [
    "result"
   ]
  },
  {
   "cell_type": "code",
   "execution_count": null,
   "id": "0ff55074",
   "metadata": {},
   "outputs": [],
   "source": [
    "a1 = np.array([[7,6,5,4], [8,9,12,15]])\n",
    "a2 = np.array([[11,19,20,21], [23,24,25,27]])"
   ]
  },
  {
   "cell_type": "code",
   "execution_count": null,
   "id": "ff29fa99",
   "metadata": {},
   "outputs": [],
   "source": [
    "a1"
   ]
  },
  {
   "cell_type": "code",
   "execution_count": null,
   "id": "2ee8cd91",
   "metadata": {},
   "outputs": [],
   "source": [
    "a2"
   ]
  },
  {
   "cell_type": "code",
   "execution_count": null,
   "id": "a7bbbaf9",
   "metadata": {},
   "outputs": [],
   "source": [
    "np.add(a1, a2)"
   ]
  },
  {
   "cell_type": "code",
   "execution_count": null,
   "id": "bb6dc3b1",
   "metadata": {},
   "outputs": [],
   "source": [
    "np.multiply(a1, a2)"
   ]
  },
  {
   "cell_type": "code",
   "execution_count": null,
   "id": "0d579d85",
   "metadata": {},
   "outputs": [],
   "source": [
    "np.divide(a1,a2)"
   ]
  },
  {
   "cell_type": "code",
   "execution_count": null,
   "id": "314eeea3",
   "metadata": {},
   "outputs": [],
   "source": [
    "np.power(a1,2)"
   ]
  },
  {
   "cell_type": "code",
   "execution_count": null,
   "id": "759e94ab",
   "metadata": {},
   "outputs": [],
   "source": [
    "np.min(a1)"
   ]
  },
  {
   "cell_type": "code",
   "execution_count": null,
   "id": "489ae692",
   "metadata": {},
   "outputs": [],
   "source": [
    "a1"
   ]
  },
  {
   "cell_type": "code",
   "execution_count": null,
   "id": "9289e6a0",
   "metadata": {},
   "outputs": [],
   "source": [
    "np.min(a1,axis=1)"
   ]
  },
  {
   "cell_type": "code",
   "execution_count": null,
   "id": "c22a9f92",
   "metadata": {},
   "outputs": [],
   "source": [
    "np.max(a1, axis = 1)"
   ]
  },
  {
   "cell_type": "code",
   "execution_count": null,
   "id": "ff7c05c6",
   "metadata": {},
   "outputs": [],
   "source": [
    "a1"
   ]
  },
  {
   "cell_type": "code",
   "execution_count": null,
   "id": "8b62f285",
   "metadata": {},
   "outputs": [],
   "source": [
    "np.min(a2, axis =1)"
   ]
  },
  {
   "cell_type": "code",
   "execution_count": null,
   "id": "f3ae5f27",
   "metadata": {},
   "outputs": [],
   "source": [
    "array1 = np.random.randint(10, 256, 256, 3)"
   ]
  },
  {
   "cell_type": "code",
   "execution_count": null,
   "id": "98c400d1",
   "metadata": {},
   "outputs": [],
   "source": [
    "array1"
   ]
  },
  {
   "cell_type": "code",
   "execution_count": null,
   "id": "3de30d02",
   "metadata": {},
   "outputs": [],
   "source": [
    "np.max(array1, axis=1)"
   ]
  },
  {
   "cell_type": "code",
   "execution_count": null,
   "id": "a66eb12b",
   "metadata": {},
   "outputs": [],
   "source": [
    "ar = np.random.randint(15,50,(3,4))"
   ]
  },
  {
   "cell_type": "code",
   "execution_count": null,
   "id": "bb0e8b50",
   "metadata": {},
   "outputs": [],
   "source": [
    "ar"
   ]
  },
  {
   "cell_type": "code",
   "execution_count": null,
   "id": "cb339e21",
   "metadata": {},
   "outputs": [],
   "source": [
    "np.shape(ar)"
   ]
  },
  {
   "cell_type": "code",
   "execution_count": null,
   "id": "63345aa3",
   "metadata": {},
   "outputs": [],
   "source": [
    "np.max(ar, axis=0)"
   ]
  },
  {
   "cell_type": "code",
   "execution_count": null,
   "id": "9d1ddb79",
   "metadata": {},
   "outputs": [],
   "source": [
    "np.argmin(ar,axis = 0)"
   ]
  },
  {
   "cell_type": "code",
   "execution_count": null,
   "id": "521bf990",
   "metadata": {},
   "outputs": [],
   "source": [
    "np.sin(ar)"
   ]
  },
  {
   "cell_type": "code",
   "execution_count": null,
   "id": "c33e3cbc",
   "metadata": {},
   "outputs": [],
   "source": [
    "a5 = np.random.randint(12,80,(12,2))"
   ]
  },
  {
   "cell_type": "code",
   "execution_count": null,
   "id": "c2016c2c",
   "metadata": {},
   "outputs": [],
   "source": [
    "a5"
   ]
  },
  {
   "cell_type": "code",
   "execution_count": null,
   "id": "e22ee743",
   "metadata": {},
   "outputs": [],
   "source": [
    "a5 = np.reshape(a5,(4,6))"
   ]
  },
  {
   "cell_type": "code",
   "execution_count": null,
   "id": "d6a4703e",
   "metadata": {},
   "outputs": [],
   "source": [
    "a5"
   ]
  },
  {
   "cell_type": "code",
   "execution_count": null,
   "id": "ef64e163",
   "metadata": {},
   "outputs": [],
   "source": [
    "[0,0][0,1][0,2][0,3][0,4][0,5]\n",
    "[1,0][1]"
   ]
  },
  {
   "cell_type": "code",
   "execution_count": null,
   "id": "7d235408",
   "metadata": {},
   "outputs": [],
   "source": [
    "a5[1,1]"
   ]
  },
  {
   "cell_type": "code",
   "execution_count": null,
   "id": "48c6ad1b",
   "metadata": {},
   "outputs": [],
   "source": [
    "np.zeros([2,5])"
   ]
  },
  {
   "cell_type": "code",
   "execution_count": null,
   "id": "2061a4f1",
   "metadata": {},
   "outputs": [],
   "source": [
    "np.ones([9,4])"
   ]
  },
  {
   "cell_type": "code",
   "execution_count": null,
   "id": "129d9613",
   "metadata": {},
   "outputs": [],
   "source": [
    "np.empty(2)"
   ]
  },
  {
   "cell_type": "code",
   "execution_count": null,
   "id": "51ec2855",
   "metadata": {},
   "outputs": [],
   "source": [
    "np.arange()"
   ]
  },
  {
   "cell_type": "code",
   "execution_count": null,
   "id": "7ba54866",
   "metadata": {},
   "outputs": [],
   "source": [
    "np.arange(1,20,2)"
   ]
  },
  {
   "cell_type": "code",
   "execution_count": null,
   "id": "39958857",
   "metadata": {},
   "outputs": [],
   "source": [
    "np.eye(4,4,-1)"
   ]
  },
  {
   "cell_type": "code",
   "execution_count": null,
   "id": "7d36ee7f",
   "metadata": {},
   "outputs": [],
   "source": [
    "a0 = np.random.randint(2,30,(5,5))"
   ]
  },
  {
   "cell_type": "code",
   "execution_count": null,
   "id": "ea41957b",
   "metadata": {},
   "outputs": [],
   "source": [
    "a0"
   ]
  },
  {
   "cell_type": "code",
   "execution_count": null,
   "id": "c9eee897",
   "metadata": {},
   "outputs": [],
   "source": [
    "a0[1:3,3:5]"
   ]
  },
  {
   "cell_type": "code",
   "execution_count": null,
   "id": "5df5706e",
   "metadata": {},
   "outputs": [],
   "source": [
    "df1 = pd.DataFrame({'Name': ['Prabhat', 'Hari', 'Shyam',\n",
    "                             'Sita', 'Mahima', 'Sunil', 'Bhawana'],\n",
    "                   'Age': [24,34,50,32,18,23,22],\n",
    "                   'Address': ['Manigram', 'Dhanewa', 'Bardaghat', 'Manglapur',\n",
    "                              'Bharatpur', 'Kathmandu', 'Ramechap']})"
   ]
  },
  {
   "cell_type": "code",
   "execution_count": null,
   "id": "c11cf4e3",
   "metadata": {},
   "outputs": [],
   "source": [
    "import pandas as pd"
   ]
  },
  {
   "cell_type": "code",
   "execution_count": null,
   "id": "3a9e5c51",
   "metadata": {},
   "outputs": [],
   "source": [
    "df1"
   ]
  },
  {
   "cell_type": "markdown",
   "id": "01bd9787",
   "metadata": {},
   "source": [
    "Question 1\n",
    "Read 'Fortune_1000.csv' file using pandas read_csv() method and store it in a variable named f1000.\n",
    "Select the rank, revenues, and rank_change columns in f1000. Then, use the df.head() method to select first five rows.\n",
    "Select just the fifth row of the f1000 dataframe. Assign the result to fifth_row using iloc.\n",
    "Select the value in first row of the company column. Assign the result to company_value.\n",
    "Select the last three rows of the f1000 dataframe. Assign the result to last_three_rows.\n",
    "Select the first to seventh rows and the first five columns of the f1000 dataframe."
   ]
  },
  {
   "cell_type": "code",
   "execution_count": null,
   "id": "a8c70eda",
   "metadata": {},
   "outputs": [],
   "source": [
    "\n"
   ]
  },
  {
   "cell_type": "code",
   "execution_count": null,
   "id": "1b84c29f",
   "metadata": {
    "scrolled": true
   },
   "outputs": [],
   "source": [
    "from csv import reader\n",
    "file = open(\"Fortune_1000.csv\")\n",
    "file_reader = reader(file)\n",
    "data = list(file_reader)"
   ]
  },
  {
   "cell_type": "code",
   "execution_count": null,
   "id": "8fd9bb94",
   "metadata": {},
   "outputs": [],
   "source": [
    "data"
   ]
  },
  {
   "cell_type": "code",
   "execution_count": null,
   "id": "916b7c23",
   "metadata": {},
   "outputs": [],
   "source": [
    "f1000 = pd.DataFrame(data)"
   ]
  },
  {
   "cell_type": "code",
   "execution_count": null,
   "id": "5af40d63",
   "metadata": {},
   "outputs": [],
   "source": [
    "f1000"
   ]
  },
  {
   "cell_type": "code",
   "execution_count": null,
   "id": "f3886de2",
   "metadata": {},
   "outputs": [],
   "source": [
    "f1000.head(7)"
   ]
  },
  {
   "cell_type": "code",
   "execution_count": null,
   "id": "fd40cf6f",
   "metadata": {},
   "outputs": [],
   "source": []
  },
  {
   "cell_type": "code",
   "execution_count": null,
   "id": "2580fb45",
   "metadata": {},
   "outputs": [],
   "source": []
  },
  {
   "cell_type": "code",
   "execution_count": null,
   "id": "e418404a",
   "metadata": {},
   "outputs": [],
   "source": []
  },
  {
   "cell_type": "code",
   "execution_count": null,
   "id": "757f201e",
   "metadata": {},
   "outputs": [],
   "source": []
  },
  {
   "cell_type": "code",
   "execution_count": null,
   "id": "7c77f34b",
   "metadata": {},
   "outputs": [],
   "source": []
  }
 ],
 "metadata": {
  "kernelspec": {
   "display_name": "Python 3 (ipykernel)",
   "language": "python",
   "name": "python3"
  },
  "language_info": {
   "codemirror_mode": {
    "name": "ipython",
    "version": 3
   },
   "file_extension": ".py",
   "mimetype": "text/x-python",
   "name": "python",
   "nbconvert_exporter": "python",
   "pygments_lexer": "ipython3",
   "version": "3.11.4"
  }
 },
 "nbformat": 4,
 "nbformat_minor": 5
}
